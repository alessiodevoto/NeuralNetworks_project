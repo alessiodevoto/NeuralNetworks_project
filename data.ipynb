{
  "nbformat": 4,
  "nbformat_minor": 0,
  "metadata": {
    "colab": {
      "name": "data.ipynb",
      "provenance": [],
      "collapsed_sections": [],
      "mount_file_id": "1x4bI5GDkQ4AWe49lkdSR0S7Mdhe1eSYO",
      "authorship_tag": "ABX9TyM9jkMcy50+PQsSRgq9Kw5g",
      "include_colab_link": true
    },
    "kernelspec": {
      "name": "python3",
      "display_name": "Python 3"
    },
    "language_info": {
      "name": "python"
    }
  },
  "cells": [
    {
      "cell_type": "markdown",
      "metadata": {
        "id": "view-in-github",
        "colab_type": "text"
      },
      "source": [
        "<a href=\"https://colab.research.google.com/github/alessiodevoto/NeuralNetworks_project/blob/main/data.ipynb\" target=\"_parent\"><img src=\"https://colab.research.google.com/assets/colab-badge.svg\" alt=\"Open In Colab\"/></a>"
      ]
    },
    {
      "cell_type": "code",
      "metadata": {
        "id": "Y3c_9Uu1C-4C"
      },
      "source": [
        "!python -c \"import torch; print(torch.__version__)\"\n",
        "!pip install torch-scatter -f https://data.pyg.org/whl/torch-1.9.0+cu102.html\n",
        "!pip install torch-sparse -f https://data.pyg.org/whl/torch-1.9.0+cu102.html\n",
        "!pip install torch-geometric\n",
        "!pip install wget\n",
        "!pip install pickle5\n",
        "cd /content/drive/MyDrive/gcn/\n"
      ],
      "execution_count": null,
      "outputs": []
    },
    {
      "cell_type": "markdown",
      "metadata": {
        "id": "sKx5CnvUDc-3"
      },
      "source": [
        "The PylonsDataset class builds up a dataset of graph, one for each photo in data. Download options are: \n",
        "- complete_data : downloads json files (raw) and pyG dataset (processed)\n",
        "- processed_data : only downloads processed data in PyG format\n",
        "- raw_data: only downloads json files, and processes them to create a PyG dataset"
      ]
    },
    {
      "cell_type": "code",
      "metadata": {
        "colab": {
          "base_uri": "https://localhost:8080/"
        },
        "id": "WghsvnpNFKM4",
        "outputId": "ecd1df0c-a0ba-4f55-f3a2-f2b63550cd2d"
      },
      "source": [
        "from PylonsDataset import PylonsDataset\n",
        "mydata = PylonsDataset(root='data', password='matching', download_option='raw_data')"
      ],
      "execution_count": 7,
      "outputs": [
        {
          "output_type": "stream",
          "name": "stdout",
          "text": [
            "Downloading dataset to data/raw ...\n",
            "Downloading...\n",
            "Download completed!\n",
            "Retrieving information about relations between assets...\n",
            "One-hot encoding assets...\n"
          ]
        },
        {
          "output_type": "stream",
          "name": "stderr",
          "text": [
            "Processing...\n"
          ]
        },
        {
          "output_type": "stream",
          "name": "stdout",
          "text": [
            "Processing dictionaries...\n",
            "Processing datasets in json format...\n",
            "Parsing dataset file: data/raw/datasets/D110-36742.json\n",
            "Parsing dataset file: data/raw/datasets/D550-19031.json\n",
            "Parsing dataset file: data/raw/datasets/D340-33954.json\n",
            "Parsing dataset file: data/raw/datasets/D260-26837.json\n",
            "Parsing dataset file: data/raw/datasets/D550-47654.json\n",
            "Parsing dataset file: data/raw/datasets/D110-11881.json\n",
            "Parsing dataset file: data/raw/datasets/D340-49418.json\n",
            "Parsing dataset file: data/raw/datasets/D260-49027.json\n",
            "Number of elements not included (unclassifiable photos): 789\n",
            "Number of elements in dataset: 9444\n"
          ]
        },
        {
          "output_type": "stream",
          "name": "stderr",
          "text": [
            "Done!\n"
          ]
        }
      ]
    },
    {
      "cell_type": "markdown",
      "metadata": {
        "id": "78SoJ7AfEcOK"
      },
      "source": [
        " In order to get a single graph, we use __get()__, whereas to get a pair of graphs randomly generated on the fly, we use ____getitem__()__.\n",
        " A single graph, stored as a Data object, has the following features:\n",
        " - x : feature matrix NxF, N num nodes, F num features\n",
        " - edge_index: graph connectivity in PyG format\n",
        " - edge_attr: edge features  \n",
        " - y: target value, i.e. id of pylons captured in this graph\n",
        " - photo_id: id of photo this graph represents"
      ]
    },
    {
      "cell_type": "code",
      "metadata": {
        "colab": {
          "base_uri": "https://localhost:8080/"
        },
        "id": "cfzn_WZbImeK",
        "outputId": "b175ed21-1aca-4d82-8112-7c23ed166205"
      },
      "source": [
        "g0 = mydata.get(0)\n",
        "print(g0)"
      ],
      "execution_count": 9,
      "outputs": [
        {
          "output_type": "stream",
          "name": "stdout",
          "text": [
            "Data(x=[3, 53], edge_index=[2, 12], edge_attr=[12, 1], y='504631_4353907_57', photo_id='F_2020_06_23@15.58.44(612)_Converted_CROP_1_73.jpg')\n"
          ]
        }
      ]
    },
    {
      "cell_type": "markdown",
      "metadata": {
        "id": "04pM1KQZLNrl"
      },
      "source": [
        "We can also get a pair of graph, together with a label (1:similar, -1: not similar). \n",
        "Pairs of graph are saved in a PairData structure, derived from data, optimized for batching.\n",
        "\n",
        "\n",
        "\n",
        "```\n",
        "# class PairData(Data):\n",
        "    \"\"\"\n",
        "    Class to store pair of graph. Should always be called with dataloader\n",
        "    with option loader = DataLoader(... , follow_batch=['x1', 'x2'], ...)\n",
        "    \"\"\"\n",
        "\n",
        "    def __init__(self, x1, edge_index1, edge_attr1, x2, edge_index2, edge_attr2, target):\n",
        "        super().__init__(num_nodes=None)\n",
        "        # we set the num_nodes=Node in superclass Data, to avoid wrong inferring of\n",
        "        # number of node from PyG\n",
        "        self.x1 = x1\n",
        "        self.edge_index1 = edge_index1\n",
        "        self.edge_attr1 = edge_attr1\n",
        "\n",
        "        self.x2 = x2\n",
        "        self.edge_index2 = edge_index2\n",
        "        self.edge_attr2 = edge_attr2\n",
        "\n",
        "        self.target = target\n",
        "```\n",
        "\n",
        "\n"
      ]
    },
    {
      "cell_type": "code",
      "metadata": {
        "colab": {
          "base_uri": "https://localhost:8080/"
        },
        "id": "ZO0zbdk8LXDe",
        "outputId": "2781710f-f068-4f41-fbc0-49ba552f9ae4"
      },
      "source": [
        "pair = mydata[10] # equivalent to mydata.__geitem__(0)\n",
        "print(pair)"
      ],
      "execution_count": 11,
      "outputs": [
        {
          "output_type": "stream",
          "name": "stdout",
          "text": [
            "PairData(x1=[9, 53], edge_index1=[2, 90], edge_attr1=[90, 1], x2=[4, 53], edge_index2=[2, 20], edge_attr2=[20, 1], target=[1])\n"
          ]
        }
      ]
    }
  ]
}