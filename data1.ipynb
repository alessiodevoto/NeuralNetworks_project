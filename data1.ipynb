{
  "nbformat": 4,
  "nbformat_minor": 0,
  "metadata": {
    "colab": {
      "name": "data.ipynb",
      "provenance": [],
      "collapsed_sections": [],
      "mount_file_id": "1x4bI5GDkQ4AWe49lkdSR0S7Mdhe1eSYO",
      "authorship_tag": "ABX9TyOuOxzJFUdmsJSJzBR9q5ST",
      "include_colab_link": true
    },
    "kernelspec": {
      "display_name": "Python 3",
      "name": "python3"
    },
    "language_info": {
      "name": "python"
    }
  },
  "cells": [
    {
      "cell_type": "markdown",
      "metadata": {
        "id": "view-in-github",
        "colab_type": "text"
      },
      "source": [
        "<a href=\"https://colab.research.google.com/github/alessiodevoto/NeuralNetworks_project/blob/main/data1.ipynb\" target=\"_parent\"><img src=\"https://colab.research.google.com/assets/colab-badge.svg\" alt=\"Open In Colab\"/></a>"
      ]
    },
    {
      "cell_type": "markdown",
      "metadata": {
        "id": "5vbqCsi3bv9a"
      },
      "source": [
        "# Libraries and framework"
      ]
    },
    {
      "cell_type": "code",
      "metadata": {
        "id": "Y3c_9Uu1C-4C"
      },
      "source": [
        "!python -c \"import torch; print(torch.__version__)\"\n",
        "!pip install torch-scatter -f https://data.pyg.org/whl/torch-1.9.0+cu102.html\n",
        "!pip install torch-sparse -f https://data.pyg.org/whl/torch-1.9.0+cu102.html\n",
        "!pip install torch-geometric\n",
        "!pip install wget\n",
        "!pip install pickle5"
      ],
      "execution_count": null,
      "outputs": []
    },
    {
      "cell_type": "code",
      "metadata": {
        "colab": {
          "base_uri": "https://localhost:8080/"
        },
        "id": "aKxM2EDhSAmq",
        "outputId": "e50029d7-08d6-48e9-b9ab-ccaf1ae44d6d"
      },
      "source": [
        "cd /content/drive/MyDrive/gcn"
      ],
      "execution_count": 2,
      "outputs": [
        {
          "output_type": "stream",
          "name": "stdout",
          "text": [
            "/content/drive/MyDrive/gcn\n"
          ]
        }
      ]
    },
    {
      "cell_type": "markdown",
      "metadata": {
        "id": "sKx5CnvUDc-3"
      },
      "source": [
        "# Dataset\n",
        "The PylonsDataset class builds up a dataset of graph, one for each photo in data. Download options are: \n",
        "- complete_data : downloads json files (raw) and pyG dataset (processed)\n",
        "- processed_data : only downloads processed data in PyG format\n",
        "- raw_data: only downloads json files, and processes them to create a PyG dataset"
      ]
    },
    {
      "cell_type": "code",
      "metadata": {
        "id": "WghsvnpNFKM4",
        "colab": {
          "base_uri": "https://localhost:8080/"
        },
        "outputId": "3f0f7780-2af2-4833-bb80-e95102b0b1e3"
      },
      "source": [
        "from PylonsDataset import PylonsDataset\n",
        "mydata = PylonsDataset(root='data', password='matching', download_option='raw_data')"
      ],
      "execution_count": 4,
      "outputs": [
        {
          "output_type": "stream",
          "name": "stdout",
          "text": [
            "Downloading dataset to data ...\n",
            "Downloading...\n"
          ]
        },
        {
          "output_type": "stream",
          "name": "stderr",
          "text": [
            "Processing...\n"
          ]
        },
        {
          "output_type": "stream",
          "name": "stdout",
          "text": [
            "Retrieving information about relations between assets...\n",
            "One-hot encoding assets...\n",
            "Processing dictionaries...\n",
            "Processing datasets in json format...\n",
            "Parsing dataset file: data/raw/datasets/D110-36742.json\n",
            "Parsing dataset file: data/raw/datasets/D550-19031.json\n",
            "Parsing dataset file: data/raw/datasets/D340-33954.json\n",
            "Parsing dataset file: data/raw/datasets/D260-26837.json\n",
            "Parsing dataset file: data/raw/datasets/D550-47654.json\n",
            "Parsing dataset file: data/raw/datasets/D110-11881.json\n",
            "Parsing dataset file: data/raw/datasets/D340-49418.json\n",
            "Parsing dataset file: data/raw/datasets/D260-49027.json\n",
            "Number of elements not included (unclassifiable photos): 789\n",
            "Number of elements in dataset: 9444\n"
          ]
        },
        {
          "output_type": "stream",
          "name": "stderr",
          "text": [
            "Done!\n"
          ]
        },
        {
          "output_type": "stream",
          "name": "stdout",
          "text": [
            "Dataset ready\n",
            "Find raw data in data/raw and processed data in data/processed\n"
          ]
        }
      ]
    },
    {
      "cell_type": "markdown",
      "metadata": {
        "id": "78SoJ7AfEcOK"
      },
      "source": [
        " In order to get a single graph, we use __get()__, whereas to get a pair of graphs randomly generated on the fly, we use ____getitem__()__.\n",
        " A single graph, stored as an object of the class Data , has the following features:\n",
        " - x : feature matrix NxF, N num nodes, F num features\n",
        " - edge_index: graph connectivity in PyG format\n",
        " - edge_attr: edge features  \n",
        " - y: target value, i.e. id of pylons captured in this graph\n",
        " - photo_id: id of photo this graph represents"
      ]
    },
    {
      "cell_type": "code",
      "metadata": {
        "colab": {
          "base_uri": "https://localhost:8080/"
        },
        "id": "cfzn_WZbImeK",
        "outputId": "8e462a8f-18aa-4b58-87b4-3b967d68e4cd"
      },
      "source": [
        "g0 = mydata.get(0)\n",
        "print('Graph element at index 0:')\n",
        "print(g0)\n",
        "print('\\n\\nFeatures matrix of graph element at index 0:')\n",
        "print(g0.x)"
      ],
      "execution_count": 5,
      "outputs": [
        {
          "output_type": "stream",
          "name": "stdout",
          "text": [
            "Graph element at index 0:\n",
            "Data(x=[3, 52], edge_index=[2, 12], edge_attr=[12, 1], y='504631_4353907_57', photo_id='F_2020_06_23@15.58.44(612)_Converted_CROP_1_73.jpg')\n",
            "\n",
            "\n",
            "Features matrix of graph element at index 0:\n",
            "tensor([[0.0000, 0.0000, 0.0000, 0.0000, 0.0000, 0.0000, 0.0000, 0.0000, 0.0000,\n",
            "         0.0000, 0.0000, 0.0000, 0.0000, 0.0000, 0.0000, 0.0000, 0.0000, 0.0000,\n",
            "         0.0000, 0.0000, 0.0000, 0.0000, 0.0000, 0.0000, 0.0000, 0.0000, 0.0000,\n",
            "         0.0000, 0.0000, 0.0000, 0.0000, 0.0000, 0.0000, 0.0000, 0.0000, 0.0000,\n",
            "         0.0000, 0.0000, 1.0000, 0.0000, 0.0000, 0.0000, 0.0000, 0.0000, 0.0000,\n",
            "         0.0000, 0.0000, 0.0000, 0.0000, 0.6752, 0.9000, 6.7219],\n",
            "        [0.0000, 0.0000, 0.0000, 0.0000, 0.0000, 0.0000, 1.0000, 0.0000, 0.0000,\n",
            "         0.0000, 0.0000, 0.0000, 0.0000, 0.0000, 0.0000, 0.0000, 0.0000, 0.0000,\n",
            "         0.0000, 0.0000, 0.0000, 0.0000, 0.0000, 0.0000, 0.0000, 0.0000, 0.0000,\n",
            "         0.0000, 0.0000, 0.0000, 0.0000, 0.0000, 0.0000, 0.0000, 0.0000, 0.0000,\n",
            "         0.0000, 0.0000, 0.0000, 0.0000, 0.0000, 0.0000, 0.0000, 0.0000, 0.0000,\n",
            "         0.0000, 0.0000, 0.0000, 0.0000, 1.0000, 0.1000, 7.9195],\n",
            "        [0.0000, 0.0000, 0.0000, 0.0000, 0.0000, 0.0000, 0.0000, 0.0000, 0.0000,\n",
            "         1.0000, 0.0000, 0.0000, 0.0000, 0.0000, 0.0000, 0.0000, 0.0000, 0.0000,\n",
            "         0.0000, 0.0000, 0.0000, 0.0000, 0.0000, 0.0000, 0.0000, 0.0000, 0.0000,\n",
            "         0.0000, 0.0000, 0.0000, 0.0000, 0.0000, 0.0000, 0.0000, 0.0000, 0.0000,\n",
            "         0.0000, 0.0000, 0.0000, 0.0000, 0.0000, 0.0000, 0.0000, 0.0000, 0.0000,\n",
            "         0.0000, 0.0000, 0.0000, 0.0000, 0.5606, 0.9000, 0.0095]])\n"
          ]
        }
      ]
    },
    {
      "cell_type": "markdown",
      "metadata": {
        "id": "04pM1KQZLNrl"
      },
      "source": [
        "We can also get a pair of graph, together with a label (1:similar, -1: not similar). \n",
        "Pairs of graph are saved in a PairData structure, derived from data, optimized for batching. \n",
        "\n"
      ]
    },
    {
      "cell_type": "code",
      "metadata": {
        "colab": {
          "base_uri": "https://localhost:8080/"
        },
        "id": "ZO0zbdk8LXDe",
        "outputId": "daf27375-33ae-4c62-ec08-d2ad87116165"
      },
      "source": [
        "pair = mydata[10] # equivalent to mydata.__geitem__(0)\n",
        "print(pair)"
      ],
      "execution_count": 6,
      "outputs": [
        {
          "output_type": "stream",
          "name": "stdout",
          "text": [
            "PairData(x1=[9, 52], edge_index1=[2, 90], edge_attr1=[90, 1], y1='504708_4353863_31', x2=[10, 52], edge_index2=[2, 110], edge_attr2=[110, 1], y2='504708_4353863_31', target=[1], num_nodes=19)\n"
          ]
        }
      ]
    },
    {
      "cell_type": "markdown",
      "metadata": {
        "id": "gS_rONOJZuQw"
      },
      "source": [
        "We can explore some properies:"
      ]
    },
    {
      "cell_type": "code",
      "metadata": {
        "colab": {
          "base_uri": "https://localhost:8080/"
        },
        "id": "JGc5rkzbZyQi",
        "outputId": "61f10f55-7cd2-4666-a24e-65c089e530ad"
      },
      "source": [
        "print(f'Number of node features: {mydata.num_node_features}')\n",
        "print(f'Number of edge features: {mydata.num_edge_features}')\n",
        "print(f'Average number of nodes per graph: {mydata.avg_nodes_per_graph}')\n",
        "print(f'Average number of edges per graph: {mydata.avg_edges_per_graph}')\n",
        "print(f'Dataset is undirected: {mydata.is_undirected}')\n",
        "print(f'Number of classes (i.e. of captured pylons): {mydata.num_classes}')"
      ],
      "execution_count": 7,
      "outputs": [
        {
          "output_type": "stream",
          "name": "stdout",
          "text": [
            "Number of node features: 52\n",
            "Number of edge features: 1\n",
            "Average number of nodes per graph: 6.0630029648454045\n",
            "Average number of edges per graph: 49.32570944515036\n",
            "Dataset is undirected: True\n",
            "Number of classes (i.e. of captured pylons): 1965\n"
          ]
        }
      ]
    },
    {
      "cell_type": "markdown",
      "metadata": {
        "id": "y_mu0pDTWjd6"
      },
      "source": [
        "Whether the pair of graph are similar or not and which specific pair to extract is decided randomly on the fly when we invoke __getitem__. In order to achieve a deterministic behavior, we can create a dataset with the option `deterministic = True` or just set the property to `True`. This way, the similarity is based on the index (even->similar, odd->not similar)."
      ]
    },
    {
      "cell_type": "code",
      "metadata": {
        "colab": {
          "base_uri": "https://localhost:8080/"
        },
        "id": "Sk8sDXn3XImQ",
        "outputId": "bb2e470a-f6e8-4594-aac8-81209958e4e9"
      },
      "source": [
        "print('Randomly extracted pairs:')\n",
        "print(mydata[10])\n",
        "print(mydata[10])\n",
        "print(mydata[10])\n",
        "print('Deterministically extracted pairs:')\n",
        "mydata.deterministic = True\n",
        "print(mydata[10])\n",
        "print(mydata[10])\n",
        "print(mydata[10])\n",
        "mydata.deterministic = False"
      ],
      "execution_count": 8,
      "outputs": [
        {
          "output_type": "stream",
          "name": "stdout",
          "text": [
            "Randomly extracted pairs:\n",
            "PairData(x1=[9, 52], edge_index1=[2, 90], edge_attr1=[90, 1], y1='504708_4353863_31', x2=[8, 52], edge_index2=[2, 72], edge_attr2=[72, 1], y2='504708_4353863_31', target=[1], num_nodes=17)\n",
            "PairData(x1=[9, 52], edge_index1=[2, 90], edge_attr1=[90, 1], y1='504708_4353863_31', x2=[8, 52], edge_index2=[2, 72], edge_attr2=[72, 1], y2='504708_4353863_31', target=[1], num_nodes=17)\n",
            "PairData(x1=[9, 52], edge_index1=[2, 90], edge_attr1=[90, 1], y1='504708_4353863_31', x2=[9, 52], edge_index2=[2, 90], edge_attr2=[90, 1], y2='504708_4353863_31', target=[1], num_nodes=18)\n",
            "Deterministically extracted pairs:\n",
            "PairData(x1=[9, 52], edge_index1=[2, 90], edge_attr1=[90, 1], y1='504708_4353863_31', x2=[10, 52], edge_index2=[2, 110], edge_attr2=[110, 1], y2='504708_4353863_31', target=[1], num_nodes=19)\n",
            "PairData(x1=[9, 52], edge_index1=[2, 90], edge_attr1=[90, 1], y1='504708_4353863_31', x2=[10, 52], edge_index2=[2, 110], edge_attr2=[110, 1], y2='504708_4353863_31', target=[1], num_nodes=19)\n",
            "PairData(x1=[9, 52], edge_index1=[2, 90], edge_attr1=[90, 1], y1='504708_4353863_31', x2=[10, 52], edge_index2=[2, 110], edge_attr2=[110, 1], y2='504708_4353863_31', target=[1], num_nodes=19)\n"
          ]
        }
      ]
    },
    {
      "cell_type": "markdown",
      "metadata": {
        "id": "q1Quh6-PbmEP"
      },
      "source": [
        "# Model"
      ]
    },
    {
      "cell_type": "code",
      "metadata": {
        "colab": {
          "base_uri": "https://localhost:8080/"
        },
        "id": "XpOo5sxOQ6dY",
        "outputId": "adce9b09-f875-4b10-b403-5fcd806be3f9"
      },
      "source": [
        "from model import GraphEmbeddingNet\n",
        "from loss import PairwiseLoss\n",
        "from PylonsDataset import PylonsDataset\n",
        "from torch_geometric.loader import DataLoader\n",
        "import torch\n",
        "\n",
        "dev = \"cuda:0\" if torch.cuda.is_available() else \"cpu\"\n",
        "device = torch.device(dev)  \n",
        "\n",
        "model = GraphEmbeddingNet(\n",
        "    conv_hidden_channels=[64, 64, 64], \n",
        "    graph_aggr_dim=32,\n",
        "    node_feature_dim=52,\n",
        "    edge_feature_dim=1,\n",
        "    node_hidden_sizes=[52, 52],\n",
        "    edge_hidden_sizes=None\n",
        ")\n",
        "print(model)\n",
        "\n",
        "\n",
        "optimizer = torch.optim.Adam(model.parameters(), lr=0.0001)\n",
        "criterion = PairwiseLoss()\n",
        "EPOCHS = 60\n",
        "\n",
        "mydata.deterministc=False\n",
        "train_loader = DataLoader(mydata, batch_size=64, shuffle=True, follow_batch=['x1', 'x2'], drop_last=True)\n",
        "\n",
        "\n"
      ],
      "execution_count": 10,
      "outputs": [
        {
          "output_type": "stream",
          "name": "stdout",
          "text": [
            "GraphEmbeddingNet(\n",
            "  (graph_encoder): GraphEncoder(\n",
            "    (MLP1): Sequential(\n",
            "      (0): Linear(in_features=52, out_features=52, bias=True)\n",
            "      (1): ReLU()\n",
            "      (2): Linear(in_features=52, out_features=52, bias=True)\n",
            "    )\n",
            "  )\n",
            "  (message_net): MessageNet(\n",
            "    (conv1): GCNConv(52, 64)\n",
            "    (conv2): GCNConv(64, 64)\n",
            "    (conv3): GCNConv(64, 64)\n",
            "  )\n",
            "  (aggregator): GraphAggregator(\n",
            "    (aggregator): Linear(in_features=64, out_features=32, bias=True)\n",
            "  )\n",
            ")\n"
          ]
        }
      ]
    },
    {
      "cell_type": "code",
      "metadata": {
        "colab": {
          "base_uri": "https://localhost:8080/"
        },
        "id": "j0UJ17UGSX2O",
        "outputId": "89355400-d490-4217-f44f-aa05ce11ed26"
      },
      "source": [
        "print('Starting training')\n",
        "for epoch in range(1, EPOCHS):\n",
        "    model.train()\n",
        "    loss = None\n",
        "    losses = []\n",
        "    for data in train_loader:  # Iterate in batches over the training dataset.\n",
        "        # print('[FORWARD] processing values:')\n",
        "        # print(data.x1)\n",
        "        # print(data.x2)\n",
        "        # print(data.x1_batch)\n",
        "        # print(data.x2_batch)\n",
        "        # print(data.num_graphs)\n",
        "        emb1, emb2 = model(data)\n",
        "        #emb1 = linear_layer(data.x1)\n",
        "        #emb1 = conv_layer(emb1, data.edge_index1)\n",
        "        #print('[FORWARD] processed values:')\n",
        "        #print(emb1)\n",
        "        #print(emb2)\n",
        "        loss = criterion(emb1, emb2, data.target)  # Compute the loss.\n",
        "        #print('[FORWARD] loss:')\n",
        "        #print(loss.size())\n",
        "        losses.append(loss)\n",
        "        loss.backward(torch.ones_like(loss))  # Derive gradients.\n",
        "        optimizer.step()  # Update parameters based on gradients.\n",
        "        optimizer.zero_grad()  # Clear gradients.\n",
        "        #print(f'[FORWARD] List of losses in this batch: size:{len(losses)} list: {losses}')\n",
        "        #print(f'[FORWARD] Avg loss in this batch: {losses[-1].mean}')\n",
        "    print(f'Epoch: {epoch:03d}, Loss: {torch.cat(losses, 1).mean()}')"
      ],
      "execution_count": 11,
      "outputs": [
        {
          "output_type": "stream",
          "name": "stdout",
          "text": [
            "Starting training\n",
            "Epoch: 001, Loss: 1.190205454826355\n",
            "Epoch: 002, Loss: 0.8206015825271606\n",
            "Epoch: 003, Loss: 0.5824412703514099\n",
            "Epoch: 004, Loss: 0.55259770154953\n",
            "Epoch: 005, Loss: 0.5111098289489746\n",
            "Epoch: 006, Loss: 0.48512953519821167\n",
            "Epoch: 007, Loss: 0.4666995108127594\n",
            "Epoch: 008, Loss: 0.47039949893951416\n",
            "Epoch: 009, Loss: 0.45882120728492737\n",
            "Epoch: 010, Loss: 0.45039913058280945\n",
            "Epoch: 011, Loss: 0.4259071946144104\n",
            "Epoch: 012, Loss: 0.4484967589378357\n",
            "Epoch: 013, Loss: 0.43738240003585815\n",
            "Epoch: 014, Loss: 0.4348319470882416\n",
            "Epoch: 015, Loss: 0.4271049499511719\n",
            "Epoch: 016, Loss: 0.44710078835487366\n",
            "Epoch: 017, Loss: 0.4256753921508789\n",
            "Epoch: 018, Loss: 0.4200536012649536\n",
            "Epoch: 019, Loss: 0.42354831099510193\n",
            "Epoch: 020, Loss: 0.4245895445346832\n",
            "Epoch: 021, Loss: 0.4246613383293152\n",
            "Epoch: 022, Loss: 0.43687304854393005\n",
            "Epoch: 023, Loss: 0.4240849018096924\n",
            "Epoch: 024, Loss: 0.42480629682540894\n",
            "Epoch: 025, Loss: 0.42533212900161743\n",
            "Epoch: 026, Loss: 0.42426371574401855\n",
            "Epoch: 027, Loss: 0.4089716076850891\n",
            "Epoch: 028, Loss: 0.4133753776550293\n",
            "Epoch: 029, Loss: 0.40847474336624146\n",
            "Epoch: 030, Loss: 0.4109346270561218\n",
            "Epoch: 031, Loss: 0.4156773090362549\n",
            "Epoch: 032, Loss: 0.4143317639827728\n",
            "Epoch: 033, Loss: 0.40162673592567444\n",
            "Epoch: 034, Loss: 0.4040084183216095\n",
            "Epoch: 035, Loss: 0.4074597656726837\n",
            "Epoch: 036, Loss: 0.4002789855003357\n",
            "Epoch: 037, Loss: 0.4118582308292389\n",
            "Epoch: 038, Loss: 0.40732648968696594\n",
            "Epoch: 039, Loss: 0.4004935324192047\n",
            "Epoch: 040, Loss: 0.40832221508026123\n",
            "Epoch: 041, Loss: 0.3977698087692261\n",
            "Epoch: 042, Loss: 0.40472033619880676\n",
            "Epoch: 043, Loss: 0.39174601435661316\n",
            "Epoch: 044, Loss: 0.39203545451164246\n",
            "Epoch: 045, Loss: 0.38955190777778625\n",
            "Epoch: 046, Loss: 0.39349696040153503\n",
            "Epoch: 047, Loss: 0.39458659291267395\n",
            "Epoch: 048, Loss: 0.38179460167884827\n",
            "Epoch: 049, Loss: 0.3647841215133667\n",
            "Epoch: 050, Loss: 0.3584166467189789\n",
            "Epoch: 051, Loss: 0.3415628969669342\n",
            "Epoch: 052, Loss: 0.3300468921661377\n",
            "Epoch: 053, Loss: 0.3422664999961853\n",
            "Epoch: 054, Loss: 0.3284492790699005\n",
            "Epoch: 055, Loss: 0.32889509201049805\n",
            "Epoch: 056, Loss: 0.33275651931762695\n",
            "Epoch: 057, Loss: 0.3192809224128723\n",
            "Epoch: 058, Loss: 0.31997594237327576\n",
            "Epoch: 059, Loss: 0.31405457854270935\n"
          ]
        }
      ]
    }
  ]
}